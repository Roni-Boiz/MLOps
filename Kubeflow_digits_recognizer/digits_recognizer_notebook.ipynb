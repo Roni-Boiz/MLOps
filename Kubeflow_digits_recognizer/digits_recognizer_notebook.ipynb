{
 "cells": [
  {
   "cell_type": "markdown",
   "metadata": {
    "id": "c6q8_gU4RClu"
   },
   "source": [
    "# Exploring the MNIST Digits Dataset"
   ]
  },
  {
   "cell_type": "markdown",
   "metadata": {
    "id": "gRRWy7XpRHbq"
   },
   "source": [
    "## Importing Data"
   ]
  },
  {
   "cell_type": "code",
   "execution_count": 1,
   "metadata": {
    "colab": {
     "base_uri": "https://localhost:8080/"
    },
    "id": "X2D5_56r3cSM",
    "outputId": "a2ed720b-afc4-495b-c57a-54f10eda2bcb"
   },
   "outputs": [
    {
     "name": "stderr",
     "output_type": "stream",
     "text": [
      "2024-11-08 06:38:55.429932: I external/local_tsl/tsl/cuda/cudart_stub.cc:31] Could not find cuda drivers on your machine, GPU will not be used.\n",
      "2024-11-08 06:38:55.474566: E external/local_xla/xla/stream_executor/cuda/cuda_dnn.cc:9261] Unable to register cuDNN factory: Attempting to register factory for plugin cuDNN when one has already been registered\n",
      "2024-11-08 06:38:55.474600: E external/local_xla/xla/stream_executor/cuda/cuda_fft.cc:607] Unable to register cuFFT factory: Attempting to register factory for plugin cuFFT when one has already been registered\n",
      "2024-11-08 06:38:55.476087: E external/local_xla/xla/stream_executor/cuda/cuda_blas.cc:1515] Unable to register cuBLAS factory: Attempting to register factory for plugin cuBLAS when one has already been registered\n",
      "2024-11-08 06:38:55.482716: I external/local_tsl/tsl/cuda/cudart_stub.cc:31] Could not find cuda drivers on your machine, GPU will not be used.\n",
      "2024-11-08 06:38:55.483226: I tensorflow/core/platform/cpu_feature_guard.cc:182] This TensorFlow binary is optimized to use available CPU instructions in performance-critical operations.\n",
      "To enable the following instructions: AVX2 FMA, in other operations, rebuild TensorFlow with the appropriate compiler flags.\n",
      "2024-11-08 06:38:56.448461: W tensorflow/compiler/tf2tensorrt/utils/py_utils.cc:38] TF-TRT Warning: Could not find TensorRT\n"
     ]
    }
   ],
   "source": [
    "import numpy as np\n",
    "import pandas as pd\n",
    "import matplotlib.pyplot as plt\n",
    "from tensorflow import keras\n",
    "import tensorflow as tf\n",
    "\n",
    "(x_train, y_train), (x_test, y_test) = keras.datasets.mnist.load_data()"
   ]
  },
  {
   "cell_type": "markdown",
   "metadata": {
    "id": "Z2FU9cyERJZ3"
   },
   "source": [
    "## Exploring Data"
   ]
  },
  {
   "cell_type": "code",
   "execution_count": 2,
   "metadata": {
    "colab": {
     "base_uri": "https://localhost:8080/"
    },
    "id": "boaW64qdDryf",
    "outputId": "a15994bc-87a4-42c8-f105-07b8256952ba"
   },
   "outputs": [
    {
     "name": "stdout",
     "output_type": "stream",
     "text": [
      "x_train shape: (60000, 28, 28)\n",
      "y_train shape: (60000,)\n",
      "x_test shape: (10000, 28, 28)\n",
      "y_test shape: (10000,)\n"
     ]
    }
   ],
   "source": [
    "# check shape of the data\n",
    "\n",
    "print(f\"x_train shape: {x_train.shape}\")\n",
    "print(f\"y_train shape: {y_train.shape}\")\n",
    "\n",
    "print(f\"x_test shape: {x_test.shape}\")\n",
    "print(f\"y_test shape: {y_test.shape}\")"
   ]
  },
  {
   "cell_type": "code",
   "execution_count": 3,
   "metadata": {
    "colab": {
     "base_uri": "https://localhost:8080/",
     "height": 282
    },
    "id": "F5DH7XCyDx6p",
    "outputId": "8b30fe19-cd81-4773-a47c-2592922866f5"
   },
   "outputs": [
    {
     "data": {
      "image/png": "[encoded data removed]",
      "text/plain": [
       "<Figure size 640x480 with 1 Axes>"
      ]
     },
     "metadata": {},
     "output_type": "display_data"
    },
    {
     "name": "stdout",
     "output_type": "stream",
     "text": [
      "correct number: 5\n"
     ]
    }
   ],
   "source": [
    "# visualize single data instances\n",
    "\n",
    "img_no = 0 #change the number to display other examples\n",
    "\n",
    "first_number = x_train[img_no]\n",
    "plt.imshow(first_number, cmap='gray') # visualize the numbers in gray mode\n",
    "plt.show()\n",
    "print(f\"correct number: {y_train[img_no]}\")"
   ]
  },
  {
   "cell_type": "markdown",
   "metadata": {
    "id": "jygNEJ4dRm3o"
   },
   "source": [
    "## Preparing Data & Splitting"
   ]
  },
  {
   "cell_type": "code",
   "execution_count": 4,
   "metadata": {
    "colab": {
     "base_uri": "https://localhost:8080/"
    },
    "id": "7B7d7i3uThoq",
    "outputId": "20ca74ea-0844-4a93-c7bd-8e48d454d65d"
   },
   "outputs": [
    {
     "name": "stdout",
     "output_type": "stream",
     "text": [
      "train X shape: (60000, 28, 28, 1)\n",
      "test X shape: (10000, 28, 28, 1)\n"
     ]
    }
   ],
   "source": [
    "# reshaping the data\n",
    "# reshaping pixels in a 28x28px image with greyscale, canal = 1. This is needed for the Keras API\n",
    "x_train = x_train.reshape(-1,28,28,1)\n",
    "x_test = x_test.reshape(-1,28,28,1)\n",
    "\n",
    "# normalizing the data\n",
    "# each pixel has a value between 0-255. Here we divide by 255, to get values from 0-1\n",
    "x_train = x_train / 255\n",
    "x_test = x_test / 255\n",
    "\n",
    "print(f\"train X shape: {x_train.shape}\")\n",
    "print(f\"test X shape: {x_test.shape}\")"
   ]
  },
  {
   "cell_type": "markdown",
   "metadata": {
    "id": "dOtAx2G9hD2W"
   },
   "source": [
    "## Model Building"
   ]
  },
  {
   "cell_type": "code",
   "execution_count": 5,
   "metadata": {
    "colab": {
     "base_uri": "https://localhost:8080/"
    },
    "id": "DI795SvBhGPW",
    "outputId": "b66e6a8c-4dba-4f0d-8675-f5bd9f3ff594"
   },
   "outputs": [
    {
     "name": "stdout",
     "output_type": "stream",
     "text": [
      "Model: \"sequential\"\n",
      "_________________________________________________________________\n",
      " Layer (type)                Output Shape              Param #   \n",
      "=================================================================\n",
      " conv2d (Conv2D)             (None, 26, 26, 64)        640       \n",
      "                                                                 \n",
      " max_pooling2d (MaxPooling2  (None, 13, 13, 64)        0         \n",
      " D)                                                              \n",
      "                                                                 \n",
      " conv2d_1 (Conv2D)           (None, 11, 11, 64)        36928     \n",
      "                                                                 \n",
      " max_pooling2d_1 (MaxPoolin  (None, 5, 5, 64)          0         \n",
      " g2D)                                                            \n",
      "                                                                 \n",
      " conv2d_2 (Conv2D)           (None, 3, 3, 64)          36928     \n",
      "                                                                 \n",
      " max_pooling2d_2 (MaxPoolin  (None, 1, 1, 64)          0         \n",
      " g2D)                                                            \n",
      "                                                                 \n",
      " flatten (Flatten)           (None, 64)                0         \n",
      "                                                                 \n",
      " dense (Dense)               (None, 64)                4160      \n",
      "                                                                 \n",
      " dense_1 (Dense)             (None, 32)                2080      \n",
      "                                                                 \n",
      " dense_2 (Dense)             (None, 10)                330       \n",
      "                                                                 \n",
      "=================================================================\n",
      "Total params: 81066 (316.66 KB)\n",
      "Trainable params: 81066 (316.66 KB)\n",
      "Non-trainable params: 0 (0.00 Byte)\n",
      "_________________________________________________________________\n"
     ]
    }
   ],
   "source": [
    "model = keras.models.Sequential()\n",
    "model.add(keras.layers.Conv2D(64, (3, 3), activation='relu', input_shape=(28,28,1)))\n",
    "model.add(keras.layers.MaxPool2D(2, 2))\n",
    "\n",
    "model.add(keras.layers.Conv2D(64, (3, 3), activation='relu'))\n",
    "model.add(keras.layers.MaxPool2D(2, 2))\n",
    "\n",
    "model.add(keras.layers.Conv2D(64, (3, 3), activation='relu'))\n",
    "model.add(keras.layers.MaxPool2D(2, 2))\n",
    "\n",
    "model.add(keras.layers.Flatten())\n",
    "model.add(keras.layers.Dense(64, activation='relu'))\n",
    "\n",
    "model.add(keras.layers.Dense(32, activation='relu'))\n",
    "\n",
    "model.add(keras.layers.Dense(10, activation='softmax')) #output are 10 classes, numbers from 0-9\n",
    "\n",
    "#show model summary - how it looks\n",
    "model.summary()"
   ]
  },
  {
   "cell_type": "code",
   "execution_count": 6,
   "metadata": {
    "id": "UpdaKIGoxHiC"
   },
   "outputs": [],
   "source": [
    "#compile the model - we want to have a multiple outcome\n",
    "model.compile(optimizer=\"adam\",\n",
    "              loss=\"sparse_categorical_crossentropy\",\n",
    "              metrics=['accuracy'])"
   ]
  },
  {
   "cell_type": "code",
   "execution_count": 7,
   "metadata": {
    "colab": {
     "base_uri": "https://localhost:8080/"
    },
    "id": "qHaJJk-gxJLq",
    "outputId": "f2d4c7d6-b164-4c54-9ab7-a648169e345b"
   },
   "outputs": [
    {
     "name": "stdout",
     "output_type": "stream",
     "text": [
      "Epoch 1/10\n"
     ]
    },
    {
     "name": "stderr",
     "output_type": "stream",
     "text": [
      "2024-11-07 16:53:48.439666: W external/local_tsl/tsl/framework/cpu_allocator_impl.cc:83] Allocation of 188160000 exceeds 10% of free system memory.\n"
     ]
    },
    {
     "name": "stdout",
     "output_type": "stream",
     "text": [
      "1875/1875 [==============================] - 162s 86ms/step - loss: 0.2260 - accuracy: 0.9276\n",
      "Epoch 2/10\n",
      "1875/1875 [==============================] - 154s 82ms/step - loss: 0.0752 - accuracy: 0.9763\n",
      "Epoch 3/10\n",
      "1875/1875 [==============================] - 157s 83ms/step - loss: 0.0552 - accuracy: 0.9827\n",
      "Epoch 4/10\n",
      "1875/1875 [==============================] - 156s 83ms/step - loss: 0.0451 - accuracy: 0.9855\n",
      "Epoch 5/10\n",
      "1875/1875 [==============================] - 153s 82ms/step - loss: 0.0346 - accuracy: 0.9890\n",
      "Epoch 6/10\n",
      "1875/1875 [==============================] - 156s 83ms/step - loss: 0.0292 - accuracy: 0.9909\n",
      "Epoch 7/10\n",
      "1875/1875 [==============================] - 154s 82ms/step - loss: 0.0258 - accuracy: 0.9919\n",
      "Epoch 8/10\n",
      "1875/1875 [==============================] - 154s 82ms/step - loss: 0.0210 - accuracy: 0.9934\n",
      "Epoch 9/10\n",
      "1875/1875 [==============================] - 156s 83ms/step - loss: 0.0176 - accuracy: 0.9945\n",
      "Epoch 10/10\n",
      "1875/1875 [==============================] - 152s 81ms/step - loss: 0.0170 - accuracy: 0.9946\n"
     ]
    }
   ],
   "source": [
    "#fit the model and return the history while training\n",
    "history = model.fit(\n",
    "  x=x_train,\n",
    "  y=y_train,\n",
    "  epochs=10\n",
    ")"
   ]
  },
  {
   "cell_type": "markdown",
   "metadata": {
    "id": "rvcNPDwWQhib"
   },
   "source": [
    "## Model Evaluation"
   ]
  },
  {
   "cell_type": "code",
   "execution_count": 8,
   "metadata": {},
   "outputs": [
    {
     "name": "stdout",
     "output_type": "stream",
     "text": [
      "INFO:tensorflow:Assets written to: models/detect-digits/assets\n"
     ]
    },
    {
     "name": "stderr",
     "output_type": "stream",
     "text": [
      "INFO:tensorflow:Assets written to: models/detect-digits/assets\n"
     ]
    }
   ],
   "source": [
    "keras.models.save_model(model,\"models/detect-digits\")"
   ]
  },
  {
   "cell_type": "code",
   "execution_count": 8,
   "metadata": {},
   "outputs": [
    {
     "data": {
      "text/plain": [
       "<minio.helpers.ObjectWriteResult at 0x7f72412f2690>"
      ]
     },
     "execution_count": 8,
     "metadata": {},
     "output_type": "execute_result"
    }
   ],
   "source": [
    "from minio import Minio\n",
    "import os\n",
    "\n",
    "minio_client = Minio(\n",
    "        \"10.105.102.160:9000\",\n",
    "        access_key=\"minio\",\n",
    "        secret_key=\"minio123\",\n",
    "        secure=False\n",
    "    )\n",
    "minio_bucket = \"mlpipeline\"\n",
    "\n",
    "import glob\n",
    "\n",
    "def upload_local_directory_to_minio(local_path, bucket_name, minio_path):\n",
    "    assert os.path.isdir(local_path)\n",
    "\n",
    "    for local_file in glob.glob(local_path + '/**'):\n",
    "        local_file = local_file.replace(os.sep, \"/\") # Replace \\ with / on Windows\n",
    "        if not os.path.isfile(local_file):\n",
    "            upload_local_directory_to_minio(\n",
    "                local_file, bucket_name, minio_path + \"/\" + os.path.basename(local_file))\n",
    "        else:\n",
    "            remote_path = os.path.join(\n",
    "                minio_path, local_file[1 + len(local_path):])\n",
    "            remote_path = remote_path.replace(\n",
    "                os.sep, \"/\")  # Replace \\ with / on Windows\n",
    "            minio_client.fput_object(bucket_name, remote_path, local_file)\n",
    "            \n",
    "upload_local_directory_to_minio(\"models/detect-digits\",minio_bucket,\"models/detect-digits\")\n",
    "\n",
    "# Creating dataset directory if it doesn't exist\n",
    "os.makedirs(\"dataset\", exist_ok=True)\n",
    "# Save the dataset as .npz files locally\n",
    "np.savez_compressed(\"./dataset/mnist.npz\", x_train=x_train, y_train=y_train, x_test=x_test, y_test=y_test)\n",
    "# Upload the dataset to MinIO\n",
    "minio_client.fput_object(\n",
    "    bucket_name=minio_bucket,\n",
    "    file_path=\"dataset/mnist.npz\",\n",
    "    object_name=\"mnist.npz\",\n",
    ")"
   ]
  },
  {
   "cell_type": "code",
   "execution_count": 8,
   "metadata": {
    "id": "ZsrEjddE1bbf"
   },
   "outputs": [],
   "source": [
    "from tensorflow import keras\n",
    "#load model if already trained\n",
    "model = keras.models.load_model(\"detect-digits.h5\")\n",
    "# keras.models.save_model(model,\"detect-digits.h5\")"
   ]
  },
  {
   "cell_type": "code",
   "execution_count": 9,
   "metadata": {
    "colab": {
     "base_uri": "https://localhost:8080/"
    },
    "id": "bypXyDxMQj0u",
    "outputId": "2f679161-a921-4abd-bac5-b2436e9bcbe8"
   },
   "outputs": [
    {
     "name": "stdout",
     "output_type": "stream",
     "text": [
      "313/313 [==============================] - 6s 19ms/step - loss: 0.0664 - accuracy: 0.9869\n"
     ]
    }
   ],
   "source": [
    "# Test the model against the test dataset\n",
    "# Returns the loss value & metrics values for the model in test mode.\n",
    "model_loss, model_accuracy = model.evaluate(x=x_test,y=y_test)"
   ]
  },
  {
   "cell_type": "code",
   "execution_count": 10,
   "metadata": {
    "colab": {
     "base_uri": "https://localhost:8080/",
     "height": 297
    },
    "id": "wVohS46mxRDe",
    "outputId": "b64db43b-07f7-4b2e-e801-e7791484a6e7"
   },
   "outputs": [
    {
     "name": "stdout",
     "output_type": "stream",
     "text": [
      "313/313 [==============================] - 9s 28ms/step\n"
     ]
    },
    {
     "data": {
      "text/plain": [
       "[Text(0.5, 23.52222222222222, 'Predicted'),\n",
       " Text(50.722222222222214, 0.5, 'Actual')]"
      ]
     },
     "execution_count": 10,
     "metadata": {},
     "output_type": "execute_result"
    },
    {
     "data": {
      "image/png": "[encoded data removed]",
      "text/plain": [
       "<Figure size 640x480 with 2 Axes>"
      ]
     },
     "metadata": {},
     "output_type": "display_data"
    }
   ],
   "source": [
    "import numpy as np\n",
    "# Confusion Matrix\n",
    "\n",
    "# Generates output predictions for the input samples.\n",
    "test_predictions = model.predict(x=x_test)\n",
    "\n",
    "# Returns the indices of the maximum values along an axis.\n",
    "test_predictions = np.argmax(test_predictions,axis=1) # the prediction outputs 10 values, we take the index number of the highest value, which is the prediction of the model\n",
    "\n",
    "# generate confusion matrix\n",
    "confusion_matrix = tf.math.confusion_matrix(labels=y_test,predictions=test_predictions)\n",
    "\n",
    "# plot confusion matrix\n",
    "import seaborn as sns\n",
    "import matplotlib.pyplot as plt\n",
    "h = sns.heatmap(confusion_matrix,annot=True,fmt='d')\n",
    "h.set(xlabel='Predicted', ylabel='Actual')"
   ]
  },
  {
   "cell_type": "code",
   "execution_count": 11,
   "metadata": {},
   "outputs": [
    {
     "name": "stdout",
     "output_type": "stream",
     "text": [
      "Package                      Version\n",
      "---------------------------- --------------\n",
      "absl-py                      2.1.0\n",
      "annotated-types              0.7.0\n",
      "anyio                        4.6.0\n",
      "archspec                     0.2.3\n",
      "argon2-cffi                  23.1.0\n",
      "argon2-cffi-bindings         21.2.0\n",
      "arrow                        1.3.0\n",
      "asttokens                    2.4.1\n",
      "astunparse                   1.6.3\n",
      "async-lru                    2.0.4\n",
      "attrs                        24.2.0\n",
      "Babel                        2.14.0\n",
      "beautifulsoup4               4.12.3\n",
      "bleach                       6.1.0\n",
      "bokeh                        3.3.4\n",
      "boltons                      24.0.0\n",
      "Brotli                       1.1.0\n",
      "cached-property              1.5.2\n",
      "cachetools                   5.5.0\n",
      "certifi                      2024.8.30\n",
      "cffi                         1.17.1\n",
      "charset-normalizer           3.3.2\n",
      "click                        8.1.7\n",
      "cloudevents                  1.11.0\n",
      "cloudpickle                  2.2.1\n",
      "colorama                     0.4.6\n",
      "comm                         0.2.2\n",
      "conda                        24.9.0\n",
      "conda-libmamba-solver        24.9.0\n",
      "conda-package-handling       2.3.0\n",
      "conda_package_streaming      0.10.0\n",
      "contourpy                    1.3.0\n",
      "cycler                       0.12.1\n",
      "debugpy                      1.8.6\n",
      "decorator                    5.1.1\n",
      "defusedxml                   0.7.1\n",
      "deprecation                  2.1.0\n",
      "dill                         0.3.8\n",
      "distro                       1.9.0\n",
      "docstring_parser             0.16\n",
      "entrypoints                  0.4\n",
      "exceptiongroup               1.2.2\n",
      "executing                    2.1.0\n",
      "fastapi                      0.115.4\n",
      "fastjsonschema               2.20.0\n",
      "flatbuffers                  24.3.25\n",
      "fonttools                    4.54.1\n",
      "fqdn                         1.5.1\n",
      "frozendict                   2.4.4\n",
      "gast                         0.6.0\n",
      "gitdb                        4.0.11\n",
      "GitPython                    3.1.43\n",
      "google-api-core              2.20.0\n",
      "google-auth                  2.35.0\n",
      "google-auth-oauthlib         1.2.1\n",
      "google-cloud-core            2.4.1\n",
      "google-cloud-storage         2.18.2\n",
      "google-crc32c                1.6.0\n",
      "google-pasta                 0.2.0\n",
      "google-resumable-media       2.7.2\n",
      "googleapis-common-protos     1.65.0\n",
      "grpcio                       1.66.2\n",
      "h11                          0.14.0\n",
      "h2                           4.1.0\n",
      "h5py                         3.11.0\n",
      "hpack                        4.0.0\n",
      "httpcore                     1.0.6\n",
      "httptools                    0.6.4\n",
      "httpx                        0.27.2\n",
      "hyperframe                   6.0.1\n",
      "idna                         3.10\n",
      "imagecodecs                  2024.6.1\n",
      "imageio                      2.35.1\n",
      "importlib_metadata           8.5.0\n",
      "importlib_resources          6.4.5\n",
      "ipykernel                    6.29.5\n",
      "ipympl                       0.9.4\n",
      "ipython                      8.27.0\n",
      "ipython_genutils             0.2.0\n",
      "ipywidgets                   8.1.5\n",
      "isoduration                  20.11.0\n",
      "jedi                         0.19.1\n",
      "Jinja2                       3.1.4\n",
      "joblib                       1.4.2\n",
      "json5                        0.9.25\n",
      "jsonpatch                    1.33\n",
      "jsonpointer                  3.0.0\n",
      "jsonschema                   4.23.0\n",
      "jsonschema-specifications    2023.12.1\n",
      "jupyter_client               8.6.3\n",
      "jupyter_core                 5.7.2\n",
      "jupyter-events               0.10.0\n",
      "jupyter-lsp                  2.2.5\n",
      "jupyter_server               2.14.2\n",
      "jupyter-server-mathjax       0.2.6\n",
      "jupyter_server_terminals     0.5.3\n",
      "jupyterlab                   4.2.5\n",
      "jupyterlab_git               0.50.1\n",
      "jupyterlab_pygments          0.3.0\n",
      "jupyterlab_server            2.27.3\n",
      "jupyterlab_widgets           3.0.13\n",
      "keras                        2.15.0\n",
      "kfp                          2.9.0\n",
      "kfp-pipeline-spec            0.4.0\n",
      "kfp-server-api               2.3.0\n",
      "kiwisolver                   1.4.7\n",
      "kserve                       0.14.0\n",
      "kubernetes                   30.1.0\n",
      "lazy_loader                  0.4\n",
      "libclang                     18.1.1\n",
      "libmambapy                   1.5.10\n",
      "mamba                        1.5.10\n",
      "Markdown                     3.7\n",
      "MarkupSafe                   2.1.5\n",
      "matplotlib                   3.8.4\n",
      "matplotlib-inline            0.1.7\n",
      "menuinst                     2.1.2\n",
      "minio                        7.2.10\n",
      "mistune                      3.0.2\n",
      "ml-dtypes                    0.3.2\n",
      "munkres                      1.1.4\n",
      "nbclient                     0.10.0\n",
      "nbconvert                    7.16.4\n",
      "nbdime                       4.0.2\n",
      "nbformat                     5.10.4\n",
      "nest_asyncio                 1.6.0\n",
      "networkx                     3.3\n",
      "notebook                     7.2.2\n",
      "notebook_shim                0.2.4\n",
      "numpy                        1.23.5\n",
      "oauthlib                     3.2.2\n",
      "opt_einsum                   3.4.0\n",
      "orjson                       3.10.11\n",
      "overrides                    7.7.0\n",
      "packaging                    24.1\n",
      "pandas                       2.2.3\n",
      "pandocfilters                1.5.0\n",
      "parso                        0.8.4\n",
      "patsy                        0.5.6\n",
      "pexpect                      4.9.0\n",
      "pickleshare                  0.7.5\n",
      "pillow                       10.4.0\n",
      "pip                          24.3.1\n",
      "pkgutil_resolve_name         1.3.10\n",
      "platformdirs                 4.3.6\n",
      "pluggy                       1.5.0\n",
      "ply                          3.11\n",
      "prometheus_client            0.20.0\n",
      "prompt_toolkit               3.0.48\n",
      "proto-plus                   1.24.0\n",
      "protobuf                     4.25.5\n",
      "psutil                       5.9.8\n",
      "ptyprocess                   0.7.0\n",
      "pure_eval                    0.2.3\n",
      "pyasn1                       0.6.1\n",
      "pyasn1_modules               0.4.1\n",
      "pycosat                      0.6.6\n",
      "pycparser                    2.22\n",
      "pycryptodome                 3.21.0\n",
      "pydantic                     2.9.2\n",
      "pydantic_core                2.23.4\n",
      "Pygments                     2.18.0\n",
      "pyparsing                    3.1.4\n",
      "PyQt5                        5.15.9\n",
      "PyQt5-sip                    12.12.2\n",
      "PySocks                      1.7.1\n",
      "python-dateutil              2.9.0\n",
      "python-dotenv                1.0.1\n",
      "python-json-logger           2.0.7\n",
      "pytz                         2024.2\n",
      "PyWavelets                   1.7.0\n",
      "PyYAML                       6.0.2\n",
      "pyzmq                        26.2.0\n",
      "referencing                  0.35.1\n",
      "requests                     2.32.3\n",
      "requests-oauthlib            2.0.0\n",
      "requests-toolbelt            0.10.1\n",
      "rfc3339-validator            0.1.4\n",
      "rfc3986-validator            0.1.1\n",
      "rpds-py                      0.20.0\n",
      "rsa                          4.9\n",
      "ruamel.yaml                  0.18.6\n",
      "ruamel.yaml.clib             0.2.8\n",
      "scikit-image                 0.22.0\n",
      "scikit-learn                 1.3.2\n",
      "scipy                        1.9.3\n",
      "seaborn                      0.13.2\n",
      "Send2Trash                   1.8.3\n",
      "setuptools                   75.1.0\n",
      "sip                          6.7.12\n",
      "six                          1.16.0\n",
      "smmap                        5.0.1\n",
      "sniffio                      1.3.1\n",
      "soupsieve                    2.5\n",
      "stack-data                   0.6.2\n",
      "starlette                    0.41.2\n",
      "statsmodels                  0.14.3\n",
      "tabulate                     0.9.0\n",
      "tensorboard                  2.15.2\n",
      "tensorboard-data-server      0.7.2\n",
      "tensorflow                   2.15.1\n",
      "tensorflow-estimator         2.15.0\n",
      "tensorflow-io-gcs-filesystem 0.37.1\n",
      "termcolor                    2.4.0\n",
      "terminado                    0.18.1\n",
      "threadpoolctl                3.5.0\n",
      "tifffile                     2024.9.20\n",
      "timing-asgi                  0.3.1\n",
      "tinycss2                     1.3.0\n",
      "toml                         0.10.2\n",
      "tomli                        2.0.1\n",
      "tornado                      6.4.1\n",
      "tqdm                         4.66.5\n",
      "traitlets                    5.14.3\n",
      "truststore                   0.9.2\n",
      "types-python-dateutil        2.9.0.20240906\n",
      "typing_extensions            4.12.2\n",
      "typing-utils                 0.1.0\n",
      "tzdata                       2024.2\n",
      "uri-template                 1.3.0\n",
      "urllib3                      1.26.20\n",
      "uvicorn                      0.30.6\n",
      "uvloop                       0.21.0\n",
      "watchfiles                   0.24.0\n",
      "wcwidth                      0.2.13\n",
      "webcolors                    24.8.0\n",
      "webencodings                 0.5.1\n",
      "websocket-client             1.8.0\n",
      "websockets                   13.1\n",
      "Werkzeug                     3.0.4\n",
      "wheel                        0.44.0\n",
      "widgetsnbextension           4.0.13\n",
      "wrapt                        1.14.1\n",
      "xgboost                      1.7.6\n",
      "xyzservices                  2024.9.0\n",
      "zipp                         3.20.2\n",
      "zstandard                    0.23.0\n",
      "Note: you may need to restart the kernel to use updated packages.\n"
     ]
    }
   ],
   "source": [
    "pip list"
   ]
  }
 ],
 "metadata": {
  "colab": {
   "collapsed_sections": [],
   "name": "digits-recognizer.ipynb",
   "provenance": []
  },
  "kernelspec": {
   "display_name": "Python 3 (ipykernel)",
   "language": "python",
   "name": "python3"
  },
  "language_info": {
   "codemirror_mode": {
    "name": "ipython",
    "version": 3
   },
   "file_extension": ".py",
   "mimetype": "text/x-python",
   "name": "python",
   "nbconvert_exporter": "python",
   "pygments_lexer": "ipython3",
   "version": "3.11.10"
  }
 },
 "nbformat": 4,
 "nbformat_minor": 4
}
