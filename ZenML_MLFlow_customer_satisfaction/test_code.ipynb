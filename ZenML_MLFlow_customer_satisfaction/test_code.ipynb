{
 "cells": [
  {
   "cell_type": "code",
   "execution_count": null,
   "metadata": {},
   "outputs": [],
   "source": [
    "import pandas as pd"
   ]
  },
  {
   "cell_type": "code",
   "execution_count": null,
   "metadata": {},
   "outputs": [],
   "source": [
    "data = pd.read_csv(\"./data/olist_customers_dataset.csv\", parse_dates=['order_purchase_timestamp','order_approved_at','order_delivered_carrier_date','order_delivered_customer_date','order_estimated_delivery_date','shipping_limit_date'], date_format = '%Y-%m-%d %H:%M:%S')"
   ]
  },
  {
   "cell_type": "code",
   "execution_count": null,
   "metadata": {},
   "outputs": [],
   "source": [
    "data.dtypes"
   ]
  },
  {
   "cell_type": "code",
   "execution_count": null,
   "metadata": {},
   "outputs": [],
   "source": [
    "data"
   ]
  },
  {
   "cell_type": "code",
   "execution_count": null,
   "metadata": {},
   "outputs": [],
   "source": [
    "data.columns"
   ]
  },
  {
   "cell_type": "code",
   "execution_count": null,
   "metadata": {},
   "outputs": [],
   "source": [
    "import numpy as np"
   ]
  },
  {
   "cell_type": "code",
   "execution_count": null,
   "metadata": {},
   "outputs": [],
   "source": [
    "data = data.drop(\n",
    "                [\n",
    "                    \"order_approved_at\",\n",
    "                    \"order_delivered_carrier_date\",\n",
    "                    \"order_delivered_customer_date\",\n",
    "                    \"order_estimated_delivery_date\",\n",
    "                    \"order_purchase_timestamp\"\n",
    "                ],\n",
    "                axis=1\n",
    "            )\n",
    "data[\"product_weight_g\"].fillna(data[\"product_weight_g\"].median(), inplace=True)\n",
    "data[\"product_length_cm\"].fillna(data[\"product_length_cm\"].median(), inplace=True)\n",
    "data[\"product_height_cm\"].fillna(data[\"product_height_cm\"].median(), inplace=True)\n",
    "data[\"product_width_cm\"].fillna(data[\"product_width_cm\"].median(), inplace=True)\n",
    "data[\"review_comment_message\"].fillna(\"No review\", inplace=True)\n",
    "\n",
    "data = data.select_dtypes(include=[np.number])\n",
    "cols_to_drop = [\"customer_zip_code_prefix\", \"order_item_id\"]\n",
    "data = data.drop(cols_to_drop, axis=1)"
   ]
  },
  {
   "cell_type": "code",
   "execution_count": null,
   "metadata": {},
   "outputs": [],
   "source": [
    "null_rows = data[data.isnull().any(axis=1)]\n",
    "null_rows"
   ]
  },
  {
   "cell_type": "code",
   "execution_count": null,
   "metadata": {},
   "outputs": [],
   "source": [
    "import sys\n",
    "\n",
    "# Print the path of the current Python environment\n",
    "print(sys.executable)"
   ]
  },
  {
   "cell_type": "code",
   "execution_count": null,
   "metadata": {},
   "outputs": [],
   "source": [
    "import pickle\n",
    "\n",
    "# Load the model\n",
    "with open(\"./saved_model/model.pkl\", \"rb\") as file:\n",
    "    model = pickle.load(file)\n",
    "\n",
    "print(f\"The model is of type: {type(model)}\")\n"
   ]
  }
 ],
 "metadata": {
  "kernelspec": {
   "display_name": "Python 3",
   "language": "python",
   "name": "python3"
  },
  "language_info": {
   "codemirror_mode": {
    "name": "ipython",
    "version": 3
   },
   "file_extension": ".py",
   "mimetype": "text/x-python",
   "name": "python",
   "nbconvert_exporter": "python",
   "pygments_lexer": "ipython3",
   "version": "3.10.15"
  }
 },
 "nbformat": 4,
 "nbformat_minor": 2
}
